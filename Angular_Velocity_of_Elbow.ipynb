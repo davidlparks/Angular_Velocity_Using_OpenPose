{
 "cells": [
  {
   "cell_type": "code",
   "execution_count": 1,
   "id": "0884a4c4",
   "metadata": {},
   "outputs": [],
   "source": [
    "# import modules\n",
    "import glob\n",
    "import json\n",
    "import math\n",
    "import matplotlib.pyplot as plt\n",
    "import numpy as np\n",
    "import pandas as pd\n",
    "from scipy.spatial.distance import euclidean"
   ]
  },
  {
   "cell_type": "code",
   "execution_count": 2,
   "id": "2c6d9967",
   "metadata": {},
   "outputs": [],
   "source": [
    "# load the json files into a dataframe\n",
    "pose_keypoints = []\n",
    "\n",
    "for filename in glob.glob('drink_jsons/*.json'):\n",
    "    with open(filename, 'r') as file:\n",
    "        data = json.loads(file.read())\n",
    "        \n",
    "    df = pd.json_normalize(data, record_path=['people'])\n",
    "    pose_keypoints.append(pd.Series(df.pose_keypoints_2d[0]))\n",
    "    \n",
    "pose_keypoints = pd.concat(pose_keypoints, axis=1)\n",
    "pose_keypoints = pose_keypoints.T"
   ]
  },
  {
   "cell_type": "code",
   "execution_count": 3,
   "id": "64e08503",
   "metadata": {},
   "outputs": [],
   "source": [
    "# drop non-essential keypoint columns\n",
    "pose_keypoints = pose_keypoints.iloc[:, :76]\n",
    "\n",
    "# add columns names\n",
    "pose_keypoints.columns = [x + str(y) for y in range(25) for x in ['x', 'y', 'c']]"
   ]
  },
  {
   "cell_type": "code",
   "execution_count": 4,
   "id": "fd1ac3c5",
   "metadata": {},
   "outputs": [],
   "source": [
    "# isolate the required body parts\n",
    "l_shoulder = pose_keypoints[['x5', 'y5']]\n",
    "l_elbow = pose_keypoints[['x6', 'y6']]"
   ]
  },
  {
   "cell_type": "code",
   "execution_count": 5,
   "id": "2f7010da",
   "metadata": {},
   "outputs": [],
   "source": [
    "# create a function that returns the indicies of the frames when movement\n",
    "# started and stopped based on distance between consecutive points\n",
    "def find_start_stop(xy_points):\n",
    "    '''\n",
    "        Takes a n x 2 Series of xy coordinates and calculates the \n",
    "        distance between consecutive points. The algorithm assumes\n",
    "        that a distance >= 5 indicates actual movement. The first\n",
    "        change in distance greater than 5 is marked as the start point.\n",
    "        The next point where change in distance is less than 5 is\n",
    "        marked as the stop point.\n",
    "        \n",
    "        Args:\n",
    "            xy_points - n x 2 Pandas Series\n",
    "            \n",
    "        Returns:\n",
    "            start - index of start frame\n",
    "            stop - index of stop frame\n",
    "    '''\n",
    "    tol = 5.0\n",
    "    start = -1\n",
    "    stop = -1\n",
    "    for i in range(len(xy_points) - 1):\n",
    "        distance = (math.dist(xy_points.iloc[i], xy_points.iloc[i + 1]))\n",
    "        if distance >= tol:\n",
    "            start = i\n",
    "            break\n",
    "            \n",
    "    for i in range(start, len(xy_points) - 1):\n",
    "        distance = (math.dist(xy_points.iloc[i], xy_points.iloc[i + 1]))\n",
    "        if distance <= tol:\n",
    "            stop = i\n",
    "            break\n",
    "            \n",
    "    return (start, stop)"
   ]
  },
  {
   "cell_type": "code",
   "execution_count": 6,
   "id": "b952e726",
   "metadata": {},
   "outputs": [
    {
     "name": "stdout",
     "output_type": "stream",
     "text": [
      "Starting frame:  6\n",
      "Stopping frame:  17\n"
     ]
    }
   ],
   "source": [
    "# find the start, stop indicies\n",
    "start_index, stop_index = find_start_stop(l_elbow)\n",
    "print(\"Starting frame: \", start_index)\n",
    "print(\"Stopping frame: \", stop_index)"
   ]
  },
  {
   "cell_type": "code",
   "execution_count": 7,
   "id": "342ba2b1",
   "metadata": {},
   "outputs": [],
   "source": [
    "# create a function that calculates the angle between three points\n",
    "def angle_calc(p0, p1, p2):\n",
    "    try:\n",
    "        a = (p1[0] - p0[0])**2 + (p1[1] - p0[1])**2\n",
    "        b = (p1[0] - p2[0])**2 + (p1[1] - p2[1])**2\n",
    "        c = (p2[0] - p0[0])**2 + (p2[1] - p0[1])**2\n",
    "        angle = math.acos((a + b - c) / math.sqrt(4 * a * b)) * 180 / math.pi\n",
    "    except:\n",
    "        return 0\n",
    "    return round(angle, 4)"
   ]
  },
  {
   "cell_type": "code",
   "execution_count": 8,
   "id": "b36ad8ff",
   "metadata": {},
   "outputs": [
    {
     "name": "stdout",
     "output_type": "stream",
     "text": [
      "Angle:  46.7153\n"
     ]
    }
   ],
   "source": [
    "# calculate the angle between starting and stopping points of the left elbow\n",
    "# assume left shoulder is stationary\n",
    "angle = angle_calc(l_elbow.iloc[start_index], l_shoulder.mean(), l_elbow.iloc[stop_index])\n",
    "print(\"Angle: \", angle)"
   ]
  },
  {
   "cell_type": "code",
   "execution_count": 9,
   "id": "e6c34958",
   "metadata": {},
   "outputs": [
    {
     "name": "stdout",
     "output_type": "stream",
     "text": [
      "Seconds:  0.3667\n"
     ]
    }
   ],
   "source": [
    "# calculate movement time using the number of frames\n",
    "frames = stop_index - start_index\n",
    "seconds = round(frames / 30, 4)\n",
    "print(\"Seconds: \", seconds)"
   ]
  },
  {
   "cell_type": "code",
   "execution_count": 10,
   "id": "ed974a95",
   "metadata": {},
   "outputs": [
    {
     "name": "stdout",
     "output_type": "stream",
     "text": [
      "Angular velocity:  127 degrees/second\n"
     ]
    }
   ],
   "source": [
    "# calculate angular velocity\n",
    "print(\"Angular velocity: \", round(angle / seconds), \"degrees/second\")"
   ]
  }
 ],
 "metadata": {
  "kernelspec": {
   "display_name": "Python 3",
   "language": "python",
   "name": "python3"
  },
  "language_info": {
   "codemirror_mode": {
    "name": "ipython",
    "version": 3
   },
   "file_extension": ".py",
   "mimetype": "text/x-python",
   "name": "python",
   "nbconvert_exporter": "python",
   "pygments_lexer": "ipython3",
   "version": "3.8.10"
  }
 },
 "nbformat": 4,
 "nbformat_minor": 5
}
